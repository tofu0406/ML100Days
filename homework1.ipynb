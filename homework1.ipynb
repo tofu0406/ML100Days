{
 "cells": [
  {
   "cell_type": "code",
   "execution_count": 3,
   "metadata": {},
   "outputs": [
    {
     "name": "stdout",
     "output_type": "stream",
     "text": [
      "ans1 [ 0  1  2  3  4  5  6  7  8  9 10 11 12 13 14 15 16 17 18 19 20]\n",
      "ans2_odd: 1 3 5 7 9 11 13 15 17 19 \n",
      "ans2_even: 0 2 4 6 8 10 12 14 16 18 20 \n",
      "ans3: 0 3 6 9 12 15 18 "
     ]
    }
   ],
   "source": [
    "import numpy as np\n",
    "a = np.arange(0,21,1)\n",
    "print(\"ans1\",a)\n",
    "print('ans2_odd:',end=' ')\n",
    "for n in a:\n",
    " if (a[n] % 2) == 1:\n",
    "    print(n, end = ' ')\n",
    "print('')\n",
    "print('ans2_even:',end=' ')\n",
    "for n in a:\n",
    " if (a[n] % 2) == 0:\n",
    "    print(n,end = ' ')\n",
    "print('')\n",
    "print('ans3:',end=' ')\n",
    "for n in a:\n",
    " if (a[n] % 3) == 0:\n",
    "    print(n,end = ' ')\n"
   ]
  },
  {
   "cell_type": "code",
   "execution_count": null,
   "metadata": {},
   "outputs": [],
   "source": []
  }
 ],
 "metadata": {
  "kernelspec": {
   "display_name": "Python 3",
   "language": "python",
   "name": "python3"
  },
  "language_info": {
   "codemirror_mode": {
    "name": "ipython",
    "version": 3
   },
   "file_extension": ".py",
   "mimetype": "text/x-python",
   "name": "python",
   "nbconvert_exporter": "python",
   "pygments_lexer": "ipython3",
   "version": "3.8.5"
  },
  "widgets": {
   "application/vnd.jupyter.widget-state+json": {
    "state": {},
    "version_major": 2,
    "version_minor": 0
   }
  }
 },
 "nbformat": 4,
 "nbformat_minor": 4
}
